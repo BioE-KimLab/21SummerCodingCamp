{
 "cells": [
  {
   "cell_type": "markdown",
   "id": "political-gospel",
   "metadata": {},
   "source": [
    "# Assignment - Week 3"
   ]
  },
  {
   "cell_type": "markdown",
   "id": "unlike-smile",
   "metadata": {},
   "source": [
    "(1) open ./Week_3/smi_list_from_Week_2, parse a list of smiles \n",
    "\n",
    "\n",
    "(2) open ./Week_3/Week_3_iupac_name_cas_no, convert iupac or cas number to a smiles string\n",
    "\n",
    "If pubchempy returns multiple compounds, please use the 0th one. \n",
    "\n",
    "If pubchempy returns no compounds, please just skip it.\n",
    "\n",
    "\n",
    "(3) Merge (1) and (2), remove duplicates\n",
    "\n",
    "Please note that the canonical smiles from PubChem needs to be 're-canonicalized' in RDKit to remove duplicates\n",
    "\n",
    "\n",
    "(4) Collect the molecules that consist of C or H or O or N (and no other elements) and not more than 20 nonhydrogen atoms (mol.GetNumHeavyAtoms()), classify them in terms of stoichiometry\n",
    "\n",
    "The dictionary should look like:\n",
    "\n",
    "{'C11H22O2': ['CCCCCCC(=O)OC(C)CC', 'CCCCCCC1COC(C)(C)O1', 'CCCCC(CCCC)C(=O)OC', 'CCCCC(CC)COC(=O)CC', 'CCCCCCCCCOC(C)=O', 'CCCCCCOC(=O)CCCC', 'CCCCCOC(=O)CCCCC', 'CCCCCCCOC(=O)CCC', 'CCCCC(=O)OC(C)CCCC', 'CCCCCCCC(=O)OCCC', 'CCCCCCC(C)(C)CC(=O)O', 'CCCCCCC(=O)OCCCC', 'CCCCCCC1(C)OCCCO1', 'CCCCCCCC(=O)OC(C)C', 'CC(C)CCCC(C)CCC(=O)O', 'CCCCCCC(=O)OC(C)(C)C', 'CCCCCCCCOC(=O)CC', 'CCCCCC(C)OC(=O)CCC', 'CCCCCCCCCCC(=O)O', 'CCCCCCCCC(C)C(=O)O', 'CCCCCCCCCCOC=O', 'CCCCCCCCC(=O)OCC', 'CCOC(=O)CCCCCC(C)C', 'CCOC(=O)CCCCC(C)CC', 'CCCCCCCCCC(=O)OC', 'CCCCCCCOC(=O)C(C)C'], 'H2O': ['O'], ... }\n",
    "\n",
    "Avoid writing '1's. e.g.) H2O1 --> H2O\n",
    "\n",
    "Follow alphabetical orders. e.g.) 'C8H10N4O2'\n",
    "\n",
    "(5) Write ./Week_3/Assignment.json .\n"
   ]
  },
  {
   "cell_type": "code",
   "execution_count": 1,
   "id": "dependent-insertion",
   "metadata": {},
   "outputs": [
    {
     "ename": "IndexError",
     "evalue": "list index out of range",
     "output_type": "error",
     "traceback": [
      "\u001b[0;31m---------------------------------------------------------------------------\u001b[0m",
      "\u001b[0;31mIndexError\u001b[0m                                Traceback (most recent call last)",
      "\u001b[0;32m<ipython-input-1-87ec1bc43417>\u001b[0m in \u001b[0;36m<module>\u001b[0;34m\u001b[0m\n\u001b[1;32m      3\u001b[0m \u001b[0;31m# and PubChemPy is not always perfect.\u001b[0m\u001b[0;34m\u001b[0m\u001b[0;34m\u001b[0m\u001b[0;34m\u001b[0m\u001b[0m\n\u001b[1;32m      4\u001b[0m \u001b[0ma\u001b[0m \u001b[0;34m=\u001b[0m \u001b[0;34m[\u001b[0m\u001b[0;34m]\u001b[0m\u001b[0;34m\u001b[0m\u001b[0;34m\u001b[0m\u001b[0m\n\u001b[0;32m----> 5\u001b[0;31m \u001b[0mprint\u001b[0m\u001b[0;34m(\u001b[0m\u001b[0ma\u001b[0m\u001b[0;34m[\u001b[0m\u001b[0;36m0\u001b[0m\u001b[0;34m]\u001b[0m\u001b[0;34m)\u001b[0m \u001b[0;31m#IndexError\u001b[0m\u001b[0;34m\u001b[0m\u001b[0;34m\u001b[0m\u001b[0m\n\u001b[0m\u001b[1;32m      6\u001b[0m \u001b[0;34m\u001b[0m\u001b[0m\n\u001b[1;32m      7\u001b[0m '''\n",
      "\u001b[0;31mIndexError\u001b[0m: list index out of range"
     ]
    }
   ],
   "source": [
    "# If pubchempy returns no compounds, please just skip it. Perhaps try-except can be used?\n",
    "# Maybe many molecules are skipped. I brought the molecules quite randomly including very tricky ones, \n",
    "# and PubChemPy is not always perfect.\n",
    "a = []\n",
    "print(a[0]) #IndexError\n",
    "\n",
    "'''\n",
    "try:\n",
    "   # do something\n",
    "except IndexError:\n",
    "    continue # skip this cycle and proceed to the next cycle\n",
    "'''"
   ]
  },
  {
   "cell_type": "code",
   "execution_count": 2,
   "id": "needed-feelings",
   "metadata": {},
   "outputs": [
    {
     "name": "stderr",
     "output_type": "stream",
     "text": [
      "RDKit WARNING: [08:27:19] WARNING: not removing hydrogen atom without neighbors\n"
     ]
    }
   ],
   "source": [
    "import pubchempy as pcp\n",
    "from rdkit import Chem\n",
    "pubchem_smi = []\n",
    "with open('./Week_3/Week_3_iupac_name_cas_no','r') as f:\n",
    "    for a_line in f:\n",
    "        name = a_line.split()[0]\n",
    "        try:\n",
    "            compound = pcp.get_compounds(name,'name')[0]\n",
    "            pubchem_smi.append(compound.canonical_smiles)\n",
    "        except IndexError:\n",
    "            continue\n",
    "        \n",
    "week_2_smi = []\n",
    "with open('./Week_3/smi_list_from_Week_2','r') as f:\n",
    "    for a_line in f:\n",
    "        mol = Chem.MolFromSmiles(a_line.split()[0])\n",
    "        week_2_smi.append( Chem.MolToSmiles(mol) )\n",
    "\n",
    "all_smi = list(set(pubchem_smi + week_2_smi))"
   ]
  },
  {
   "cell_type": "code",
   "execution_count": 3,
   "id": "intense-ideal",
   "metadata": {},
   "outputs": [
    {
     "name": "stdout",
     "output_type": "stream",
     "text": [
      "6908\n"
     ]
    }
   ],
   "source": [
    "print(len(all_smi))"
   ]
  },
  {
   "cell_type": "code",
   "execution_count": 4,
   "id": "scientific-stations",
   "metadata": {},
   "outputs": [
    {
     "name": "stderr",
     "output_type": "stream",
     "text": [
      "RDKit WARNING: [08:27:20] WARNING: not removing hydrogen atom without neighbors\n"
     ]
    }
   ],
   "source": [
    "from collections import Counter\n",
    "import json\n",
    "stoi_classified = {}\n",
    "for smi in all_smi:\n",
    "    mol = Chem.MolFromSmiles(smi)\n",
    "    mol = Chem.AddHs(mol)\n",
    "    atom_counter = Counter([atom.GetSymbol() for atom in mol.GetAtoms()])\n",
    "\n",
    "    if mol.GetNumHeavyAtoms() < 20 and len(set(atom_counter.keys()) - set(['C', 'H', 'N', 'O'])) == 0:\n",
    "        stoi = ''\n",
    "        for key in sorted(atom_counter.keys()):\n",
    "            if atom_counter[key] != 1:\n",
    "                stoi += key + str(atom_counter[key])\n",
    "            else:\n",
    "                stoi += key\n",
    "\n",
    "        try:\n",
    "            stoi_classified[stoi].append(smi)\n",
    "        except:\n",
    "            stoi_classified[stoi] = [smi]\n",
    "\n",
    "#print(stoi_classified)           \n",
    "with open('./Week_3/Assignment.json', 'w') as f:\n",
    "    json.dump(stoi_classified, f, indent = 4)"
   ]
  },
  {
   "cell_type": "code",
   "execution_count": null,
   "id": "atomic-moment",
   "metadata": {},
   "outputs": [],
   "source": []
  }
 ],
 "metadata": {
  "kernelspec": {
   "display_name": "Python 3",
   "language": "python",
   "name": "python3"
  },
  "language_info": {
   "codemirror_mode": {
    "name": "ipython",
    "version": 3
   },
   "file_extension": ".py",
   "mimetype": "text/x-python",
   "name": "python",
   "nbconvert_exporter": "python",
   "pygments_lexer": "ipython3",
   "version": "3.7.9"
  }
 },
 "nbformat": 4,
 "nbformat_minor": 5
}
