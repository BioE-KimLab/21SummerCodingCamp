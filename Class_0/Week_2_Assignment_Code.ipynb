{
 "cells": [
  {
   "cell_type": "markdown",
   "id": "9d5d8963",
   "metadata": {},
   "source": [
    "# Week 2 Assignment - Code"
   ]
  },
  {
   "cell_type": "markdown",
   "id": "2185b260",
   "metadata": {},
   "source": [
    "#### 1. Read all files whose name contains 'list' in the './Week_2/' folder\n",
    "#### 2. How many lines are invalid?\n",
    "#### 3. How many lines contain 2 or more molecules (multiple molecules within one smiles string are separated by '.')?"
   ]
  },
  {
   "cell_type": "code",
   "execution_count": 1,
   "id": "4775d15c",
   "metadata": {},
   "outputs": [],
   "source": [
    "import glob\n",
    "from rdkit import Chem\n",
    "from rdkit import RDLogger\n",
    "RDLogger.DisableLog('rdApp.*')\n",
    "\n",
    "filenames = glob.glob('./Week_2/*list*')\n",
    "\n",
    "All_smiles_list = []\n",
    "invalid_count = 0\n",
    "two_or_more = 0\n",
    "\n",
    "for filename in filenames:\n",
    "    with open(filename,'r',encoding='utf8') as f:\n",
    "        for a_line in f:\n",
    "        #for a_line in open(filename,'r'):\n",
    "        \n",
    "            if None in [Chem.MolFromSmiles(smi) for smi in a_line.split('.')]:\n",
    "                invalid_count += 1\n",
    "            else:\n",
    "                if len(a_line.split('.')) > 1:\n",
    "                    two_or_more += 1\n",
    "                All_smiles_list += a_line.split('.')"
   ]
  },
  {
   "cell_type": "code",
   "execution_count": 2,
   "id": "50f9dac8",
   "metadata": {},
   "outputs": [
    {
     "name": "stdout",
     "output_type": "stream",
     "text": [
      "10\n",
      "11\n",
      "7184\n"
     ]
    }
   ],
   "source": [
    "print(invalid_count)\n",
    "print(two_or_more)\n",
    "print(len(All_smiles_list))"
   ]
  },
  {
   "cell_type": "markdown",
   "id": "a87dc3e8",
   "metadata": {},
   "source": [
    "#### 4. How many molecules are left after removing duplicates?\n",
    "#### 5. What was the 'non-canonical' smiles of the canonical smiles O=C1CCCCC1?"
   ]
  },
  {
   "cell_type": "code",
   "execution_count": 3,
   "id": "a8153112",
   "metadata": {},
   "outputs": [
    {
     "name": "stdout",
     "output_type": "stream",
     "text": [
      "C1CCC(=O)CC1\n",
      "\n",
      "O=C1CCCCC1\n",
      "\n",
      "C1CCC(=O)CC1\n",
      "\n",
      "6825\n"
     ]
    }
   ],
   "source": [
    "All_canonical_smiles_list = [Chem.MolToSmiles(Chem.MolFromSmiles(smi)) for smi in All_smiles_list]\n",
    "for i in range(len(All_smiles_list)):\n",
    "    if All_canonical_smiles_list[i] == 'O=C1CCCCC1':\n",
    "        print(All_smiles_list[i])\n",
    "\n",
    "All_canonical_smiles_list = list(set(All_canonical_smiles_list))\n",
    "print(len(All_canonical_smiles_list))"
   ]
  },
  {
   "cell_type": "markdown",
   "id": "ffd1bc1d",
   "metadata": {},
   "source": [
    "(Start from the list of canonicalized SMILES)\n",
    "\n",
    "#### 6. How many smiles strings contain stereochemistry information?\n",
    "\n",
    "Two ways: (1) If the string contains '@' or '/' or '\\\\', it contains stereochemistry information\n",
    "\n",
    "(2) MolFromSmiles -> MolToInchiKey -> stereoisomers do not contain 'UHFFFAOYSA'"
   ]
  },
  {
   "cell_type": "code",
   "execution_count": 4,
   "id": "960c04cd",
   "metadata": {},
   "outputs": [
    {
     "name": "stdout",
     "output_type": "stream",
     "text": [
      "31\n",
      "31\n"
     ]
    }
   ],
   "source": [
    "mol_objects_all = [Chem.MolFromSmiles(smi) for smi in All_canonical_smiles_list]\n",
    "inchikeys_all = [ Chem.MolToInchiKey(mol) for mol in mol_objects_all]\n",
    "\n",
    "print(sum([True for smi in All_canonical_smiles_list if len(set(smi) & set('/@\\\\'))]))\n",
    "print(sum([True for ikey in inchikeys_all if 'UHFFFAOYSA' not in ikey]))"
   ]
  },
  {
   "cell_type": "markdown",
   "id": "776f92aa",
   "metadata": {},
   "source": [
    "#### 7. How many molecules have Cl?\n",
    "\n",
    "Write code in two ways: (1) 'Cl' in smiles string,  (2) using GetAtoms() and atom.GetSymbol() in RDKit\n",
    "\n",
    "#### 8. How many molecules have more than three oxygen atoms?"
   ]
  },
  {
   "cell_type": "code",
   "execution_count": 5,
   "id": "d5c71e4c",
   "metadata": {},
   "outputs": [
    {
     "name": "stdout",
     "output_type": "stream",
     "text": [
      "16\n",
      "16\n",
      "465\n"
     ]
    }
   ],
   "source": [
    "Clcount_1 = sum([True for smi in All_canonical_smiles_list if 'Cl' in smi])\n",
    "\n",
    "Clcount_2 = 0\n",
    "more_than_3_O_count = 0\n",
    "for mol in mol_objects_all:\n",
    "    symbol_list = [ atom.GetSymbol() for atom in mol.GetAtoms()]\n",
    "    if 'Cl' in symbol_list:\n",
    "        Clcount_2 +=1\n",
    "    \n",
    "    if symbol_list.count('O') > 3:\n",
    "        more_than_3_O_count += 1\n",
    "        \n",
    "print(Clcount_1)\n",
    "print(Clcount_2)\n",
    "print(more_than_3_O_count)"
   ]
  },
  {
   "cell_type": "markdown",
   "id": "85d57de8",
   "metadata": {},
   "source": [
    "#### 9. How many molecules are neutral/cation/anion/radicals?\n",
    "#### 10. How many molecules have molecular weight > 100?"
   ]
  },
  {
   "cell_type": "code",
   "execution_count": 6,
   "id": "original-dodge",
   "metadata": {},
   "outputs": [
    {
     "name": "stdout",
     "output_type": "stream",
     "text": [
      "6302\n"
     ]
    }
   ],
   "source": [
    "from rdkit.Chem.Descriptors import MolWt, NumRadicalElectrons\n",
    "from rdkit.Chem.rdmolops import GetFormalCharge\n",
    "\n",
    "MolWt_100_count = 0\n",
    "\n",
    "for smi in All_canonical_smiles_list:\n",
    "    mol = Chem.MolFromSmiles(smi)\n",
    "    if MolWt(mol) > 100.0:\n",
    "        MolWt_100_count += 1\n",
    "        \n",
    "print(MolWt_100_count)"
   ]
  },
  {
   "cell_type": "code",
   "execution_count": 7,
   "id": "66b35ced",
   "metadata": {},
   "outputs": [
    {
     "name": "stdout",
     "output_type": "stream",
     "text": [
      "6302\n",
      "3\n",
      "0\n",
      "6\n",
      "6819\n"
     ]
    }
   ],
   "source": [
    "# --OR --\n",
    "\n",
    "print(sum([True for smi in All_canonical_smiles_list if MolWt(Chem.MolFromSmiles(smi)) > 100.0]))\n",
    "print(sum([True for smi in All_canonical_smiles_list if NumRadicalElectrons(Chem.MolFromSmiles(smi)) > 0]))\n",
    "print(sum([True for smi in All_canonical_smiles_list if GetFormalCharge(Chem.MolFromSmiles(smi)) > 0]))\n",
    "print(sum([True for smi in All_canonical_smiles_list if GetFormalCharge(Chem.MolFromSmiles(smi)) < 0]))\n",
    "print(sum([True for smi in All_canonical_smiles_list if GetFormalCharge(Chem.MolFromSmiles(smi)) == 0]))"
   ]
  },
  {
   "cell_type": "code",
   "execution_count": 8,
   "id": "44b70bdb",
   "metadata": {},
   "outputs": [],
   "source": [
    "f = open('./Week_3/smi_list_from_Week_2','w')\n",
    "for smi in All_canonical_smiles_list:\n",
    "    f.write(smi+'\\n')\n",
    "f.close()"
   ]
  },
  {
   "cell_type": "code",
   "execution_count": null,
   "id": "hybrid-development",
   "metadata": {},
   "outputs": [],
   "source": []
  }
 ],
 "metadata": {
  "kernelspec": {
   "display_name": "Python 3",
   "language": "python",
   "name": "python3"
  },
  "language_info": {
   "codemirror_mode": {
    "name": "ipython",
    "version": 3
   },
   "file_extension": ".py",
   "mimetype": "text/x-python",
   "name": "python",
   "nbconvert_exporter": "python",
   "pygments_lexer": "ipython3",
   "version": "3.7.9"
  }
 },
 "nbformat": 4,
 "nbformat_minor": 5
}
