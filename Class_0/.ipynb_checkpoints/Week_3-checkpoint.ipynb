{
 "cells": [
  {
   "cell_type": "markdown",
   "id": "adapted-enterprise",
   "metadata": {},
   "source": [
    "# With statement in Python"
   ]
  },
  {
   "cell_type": "code",
   "execution_count": null,
   "id": "identical-finding",
   "metadata": {},
   "outputs": [],
   "source": [
    "# 'With' is good for (i) error/exception handling, (ii) memory usage (open/close files), (iii) readability!\n",
    "with open('./Week_2/example.txt', 'r') as f:\n",
    "    for a_line in f:\n",
    "        pass # do something\n",
    "\n",
    "# Another way:\n",
    "f = open('./Week_2/example.txt', 'r')\n",
    "for a_line in f:\n",
    "    pass # do something\n",
    "f.close()\n",
    "\n",
    "# This might be not bad because Python automatically closes and empties memory after running the for loop,\n",
    "# But the 'with' statement is a legitimate way\n",
    "for a_line in open('./Week_2/example.txt', 'r'):\n",
    "    pass # do something"
   ]
  },
  {
   "cell_type": "markdown",
   "id": "thousand-lesson",
   "metadata": {},
   "source": [
    "# AddHs"
   ]
  },
  {
   "cell_type": "code",
   "execution_count": null,
   "id": "strong-richmond",
   "metadata": {},
   "outputs": [],
   "source": [
    "from rdkit import Chem\n",
    "mol = Chem.MolFromSmiles('CCO')\n",
    "print([atom.GetSymbol() for atom in mol.GetAtoms()]  )\n",
    "mol = Chem.AddHs(mol)\n",
    "print([atom.GetSymbol() for atom in mol.GetAtoms()]  )"
   ]
  },
  {
   "cell_type": "markdown",
   "id": "negative-honey",
   "metadata": {},
   "source": [
    "# List vs. Tuple"
   ]
  },
  {
   "cell_type": "code",
   "execution_count": null,
   "id": "royal-cancer",
   "metadata": {},
   "outputs": [],
   "source": [
    "a = [1,2,3]\n",
    "a[1] = 4\n",
    "print(a)\n",
    "\n",
    "b = (1,2,3)\n",
    "b[1] = 4\n",
    "# 'tuple' object does not support item assignment"
   ]
  },
  {
   "cell_type": "code",
   "execution_count": null,
   "id": "relevant-jersey",
   "metadata": {},
   "outputs": [],
   "source": [
    "#List of tuples\n",
    "\n",
    "list_of_tuples= []\n",
    "for i in range(4):\n",
    "    for j in range(i+1, 4):\n",
    "        list_of_tuples.append((i,j))\n",
    "print(list_of_tuples)\n",
    "\n",
    "list_of_lists = []\n",
    "for i in range(4):\n",
    "    for j in range(i+1, 4):\n",
    "        list_of_lists.append([i,j])\n",
    "print(list_of_lists)\n",
    "\n",
    "# Tuple is good for (i) managing an array of 'constants', \\\n",
    "#(ii) memory usage (generally less memory consumption than list), (iii) readability!"
   ]
  },
  {
   "cell_type": "markdown",
   "id": "accepted-olive",
   "metadata": {},
   "source": [
    "# GetBonds"
   ]
  },
  {
   "cell_type": "code",
   "execution_count": null,
   "id": "junior-defense",
   "metadata": {},
   "outputs": [],
   "source": [
    "#The atom indices of each bond do not change, so here I use tuple for saving atom indices\n",
    "mol = Chem.MolFromSmiles('CCO')\n",
    "mol = Chem.AddHs(mol)\n",
    "\n",
    "bonds = []\n",
    "for bond in mol.GetBonds():\n",
    "    a1_idx = bond.GetBeginAtom().GetIdx()\n",
    "    a2_idx = bond.GetEndAtom().GetIdx()\n",
    "    \n",
    "    bonds.append((a1_idx, a2_idx))\n",
    "    \n",
    "    atom1, atom2 = mol.GetAtomWithIdx(a1_idx), mol.GetAtomWithIdx(a2_idx)\n",
    "    \n",
    "    print(atom1.GetSymbol(), atom2.GetSymbol())\n",
    "    \n",
    "print(bonds)"
   ]
  },
  {
   "cell_type": "code",
   "execution_count": null,
   "id": "proper-incentive",
   "metadata": {},
   "outputs": [],
   "source": [
    "from rdkit.Chem.Draw import IPythonConsole\n",
    "IPythonConsole.drawOptions.addAtomIndices = True\n",
    "mol"
   ]
  },
  {
   "cell_type": "markdown",
   "id": "greek-lightweight",
   "metadata": {},
   "source": [
    "# Dictionary"
   ]
  },
  {
   "cell_type": "code",
   "execution_count": null,
   "id": "innovative-fraction",
   "metadata": {},
   "outputs": [],
   "source": [
    "# Example 1\n",
    "from rdkit.Chem.Descriptors import MolWt, NumRadicalElectrons\n",
    "from rdkit.Chem.rdmolops import GetFormalCharge\n",
    "# integer, float, string can be dictionary 'keys' which are used for indexing\n",
    "mol_properties = {}\n",
    "mol_properties['MolWt'] = MolWt(mol)\n",
    "mol_properties['GetFormalCharge'] = GetFormalCharge(mol)\n",
    "mol_properties['AtomSymbols'] = [atom.GetSymbol() for atom in mol.GetAtoms()]\n",
    "\n",
    "print(mol_properties)\n",
    "print(mol_properties['MolWt'])"
   ]
  },
  {
   "cell_type": "code",
   "execution_count": null,
   "id": "external-expense",
   "metadata": {},
   "outputs": [],
   "source": [
    "#dictionary keys\n",
    "for key in mol_properties.keys():\n",
    "    print(key, mol_properties[key])"
   ]
  },
  {
   "cell_type": "code",
   "execution_count": null,
   "id": "arabic-terrorism",
   "metadata": {},
   "outputs": [],
   "source": [
    "#Example 2\n",
    "atom_dict = {}\n",
    "\n",
    "atom_dict['C'] = []\n",
    "atom_dict['H'] = []\n",
    "atom_dict['O'] = []\n",
    "for i, atom in enumerate(mol.GetAtoms()):\n",
    "    print(i, atom.GetSymbol())\n",
    "    atom_dict[atom.GetSymbol()].append(i)\n",
    "    \n",
    "print(atom_dict)\n",
    "    \n",
    "## --- OR ---\n",
    "atom_dict2 = {}\n",
    "mol_all_elements = list(set(atom.GetSymbol() for atom in mol.GetAtoms()))\n",
    "\n",
    "for element in mol_all_elements:\n",
    "    atom_dict2[element] = [i for i, atom in enumerate(mol.GetAtoms()) \\\n",
    "                          if atom.GetSymbol() == element]\n",
    "print(atom_dict2)\n",
    "\n",
    "## --- OR ---\n",
    "atom_dict3 = {}\n",
    "for i, atom in enumerate(mol.GetAtoms()):\n",
    "    #atom_dict3[atom.GetSymbol()].append(i)\n",
    "    try:\n",
    "        atom_dict3[atom.GetSymbol()].append(i)\n",
    "    except KeyError:\n",
    "        atom_dict3[atom.GetSymbol()] = [i]\n",
    "\n",
    "print(atom_dict3)\n",
    "\n",
    "# Please let me know after the meeting if you know any better ways to do this"
   ]
  },
  {
   "cell_type": "markdown",
   "id": "outer-nevada",
   "metadata": {},
   "source": [
    "# Exercise 1"
   ]
  },
  {
   "cell_type": "markdown",
   "id": "empty-revision",
   "metadata": {},
   "source": [
    "Make a dictionary of the bonds of the molecule 'CCO'\n",
    "\n",
    "Keys: bond types (C-C, C-H, etc.), each key has a list of tuples of atom indices.\n",
    "\n",
    "Bond types should be in an alphabetical order (e.g. H-C --> C-H)"
   ]
  },
  {
   "cell_type": "code",
   "execution_count": null,
   "id": "overhead-suicide",
   "metadata": {},
   "outputs": [],
   "source": [
    "# The output should look like: \n",
    "# {'C-C': [(0, 1)], 'C-O': [(1, 2)], 'C-H': [(0, 3), (0, 4), (0, 5), (1, 6), (1, 7)], 'H-O': [(2, 8)]}\n",
    "\n",
    "bond_dict = {}\n",
    "\n",
    "for bond in mol.GetBonds():\n",
    "    a1_idx = bond.GetBeginAtom().GetIdx()\n",
    "    a2_idx = bond.GetEndAtom().GetIdx()\n",
    "    atom1, atom2 = mol.GetAtomWithIdx(a1_idx), mol.GetAtomWithIdx(a2_idx)\n",
    "    bondtype = '-'.join(sorted([atom1.GetSymbol(), atom2.GetSymbol()]))\n",
    "    \n",
    "    try:\n",
    "        bond_dict[bondtype].append((a1_idx,a2_idx))\n",
    "    except KeyError:\n",
    "        bond_dict[bondtype] = [(a1_idx,a2_idx)]\n",
    "print(bond_dict)"
   ]
  },
  {
   "cell_type": "markdown",
   "id": "cellular-rabbit",
   "metadata": {},
   "source": [
    "# PubChemPy"
   ]
  },
  {
   "cell_type": "markdown",
   "id": "postal-pharmaceutical",
   "metadata": {},
   "source": [
    "In the data experimentalists give us or in experimental databases, molecules are usually described as IUPAC name or CAS number rather than SMILES. So, I wanted to cover PubChemPy which is one of the ways to convert IUPAC name or CAS number into SMILES. Also, molecular properties can be obtained in dictionary format."
   ]
  },
  {
   "cell_type": "code",
   "execution_count": null,
   "id": "designing-pillow",
   "metadata": {},
   "outputs": [],
   "source": [
    "import pubchempy as pcp\n",
    "\n",
    "# Since pcp.get_compounds returns a list of compounds (usually one compound, but sometimes >1), so index 0 is called\n",
    "glucose = pcp.get_compounds('glucose','name')[0]\n",
    "caffeine = pcp.get_compounds('58-08-2','name')[0]\n",
    "\n",
    "caffeine_dict = caffeine.to_dict()\n",
    "print(caffeine_dict.keys())\n",
    "print('-------------------')\n",
    "print(caffeine_dict['canonical_smiles'])\n",
    "print(caffeine.canonical_smiles)\n",
    "print('-------------------')\n",
    "\n",
    "print(caffeine.to_dict(properties = ['canonical_smiles', 'tpsa','atoms', 'bonds']))"
   ]
  },
  {
   "cell_type": "markdown",
   "id": "premium-grenada",
   "metadata": {},
   "source": [
    "# Read and write json file"
   ]
  },
  {
   "cell_type": "code",
   "execution_count": null,
   "id": "regional-roulette",
   "metadata": {},
   "outputs": [],
   "source": [
    "import json\n",
    "#write json\n",
    "with open('./Week_3/caffeine.json', 'w') as f:\n",
    "    json.dump(caffeine_dict, f, indent = 4)\n",
    "\n",
    "#read json\n",
    "with open('./Week_3/caffeine.json','r') as f:\n",
    "    data = json.load(f)\n",
    "    for key in data.keys():\n",
    "        print(key, data[key])"
   ]
  },
  {
   "cell_type": "markdown",
   "id": "narrative-hunter",
   "metadata": {},
   "source": [
    "# Exercise 2"
   ]
  },
  {
   "cell_type": "markdown",
   "id": "exact-immigration",
   "metadata": {},
   "source": [
    "(1) open ./Week_3/smi_list_from_Week_2, parse a list of smiles \n",
    "\n",
    "(2) make dictionary, classify them in terms of the total number of atoms\n",
    "\n",
    "The dictionary should look like:\n",
    "\n",
    "{ 5: ['O=CO', 'C'], 10: ['CCO[C-]=O', 'C=C=CC', 'C=COC', 'CCOO', 'COOC', 'C1COC1', 'CC1CO1', 'CC#CC', 'O=C1C=CCO1', 'CC1=CC1', 'c1ccccc#1', 'O=C1OCCO1', 'C=C1CC1', 'C#CC(=O)OC', 'C#CC#CC#CC#C', 'CC(C)=O', 'C#CCC', 'OCCO', 'CCC=O', 'O=C1CC(=O)C1'], ... }\n",
    "\n",
    "(3) Write ./Week_3/exercise_2.json ."
   ]
  },
  {
   "cell_type": "code",
   "execution_count": null,
   "id": "smoking-valuable",
   "metadata": {},
   "outputs": [],
   "source": [
    "from collections import Counter\n",
    "stoi_classified = {}\n",
    "with open('./Week_3/smi_list_from_Week_2','r') as f:\n",
    "    for smi in f:\n",
    "        mol = Chem.MolFromSmiles(smi[:-1])\n",
    "        mol = Chem.AddHs(mol)\n",
    "        \n",
    "        num_atoms_total = len(mol.GetAtoms())\n",
    "        \n",
    "        try:\n",
    "            stoi_classified[num_atoms_total].append(smi[:-1])\n",
    "        except KeyError:\n",
    "            stoi_classified[num_atoms_total] = [smi[:-1]]\n",
    "            \n",
    "with open('./Week_3/exercise_2.json', 'w') as f:\n",
    "    json.dump(stoi_classified, f, indent = 4)"
   ]
  },
  {
   "cell_type": "markdown",
   "id": "political-gospel",
   "metadata": {},
   "source": [
    "# Assignment - Week 3"
   ]
  },
  {
   "cell_type": "markdown",
   "id": "unlike-smile",
   "metadata": {},
   "source": [
    "(1) open ./Week_3/smi_list_from_Week_2, parse a list of smiles \n",
    "\n",
    "\n",
    "(2) open ./Week_3/Week_3_iupac_name_cas_no, convert iupac or cas number to a smiles string\n",
    "\n",
    "If pubchempy returns multiple compounds, please use the 0th one. \n",
    "\n",
    "If pubchempy returns no compounds, please just skip it.\n",
    "\n",
    "\n",
    "(3) Merge (1) and (2), remove duplicates\n",
    "\n",
    "Please note that the canonical smiles from PubChem needs to be 're-canonicalized' in RDKit to remove duplicates\n",
    "\n",
    "\n",
    "(4) Collect the molecules that consist of C or H or O or N (and no other elements) and not more than 20 nonhydrogen atoms (mol.GetNumHeavyAtoms()), classify them in terms of stoichiometry\n",
    "\n",
    "The dictionary should look like:\n",
    "\n",
    "{'C11H22O2': ['CCCCCCC(=O)OC(C)CC', 'CCCCCCC1COC(C)(C)O1', 'CCCCC(CCCC)C(=O)OC', 'CCCCC(CC)COC(=O)CC', 'CCCCCCCCCOC(C)=O', 'CCCCCCOC(=O)CCCC', 'CCCCCOC(=O)CCCCC', 'CCCCCCCOC(=O)CCC', 'CCCCC(=O)OC(C)CCCC', 'CCCCCCCC(=O)OCCC', 'CCCCCCC(C)(C)CC(=O)O', 'CCCCCCC(=O)OCCCC', 'CCCCCCC1(C)OCCCO1', 'CCCCCCCC(=O)OC(C)C', 'CC(C)CCCC(C)CCC(=O)O', 'CCCCCCC(=O)OC(C)(C)C', 'CCCCCCCCOC(=O)CC', 'CCCCCC(C)OC(=O)CCC', 'CCCCCCCCCCC(=O)O', 'CCCCCCCCC(C)C(=O)O', 'CCCCCCCCCCOC=O', 'CCCCCCCCC(=O)OCC', 'CCOC(=O)CCCCCC(C)C', 'CCOC(=O)CCCCC(C)CC', 'CCCCCCCCCC(=O)OC', 'CCCCCCCOC(=O)C(C)C'], 'H2O': ['O'], ... }\n",
    "\n",
    "Avoid writing '1's. e.g.) H2O1 --> H2O\n",
    "\n",
    "Follow alphabetical orders. e.g.) 'C8H10N4O2'\n",
    "\n",
    "(5) Write ./Week_3/Assignment.json .\n"
   ]
  },
  {
   "cell_type": "code",
   "execution_count": null,
   "id": "dependent-insertion",
   "metadata": {},
   "outputs": [],
   "source": [
    "# If pubchempy returns no compounds, please just skip it. Perhaps try-except can be used?\n",
    "# Maybe many molecules are skipped. I brought the molecules quite randomly including very tricky ones, \n",
    "# and PubChemPy is not always perfect.\n",
    "a = []\n",
    "print(a[0]) #IndexError\n",
    "\n",
    "'''\n",
    "try:\n",
    "   # do something\n",
    "except IndexError:\n",
    "    continue # skip this cycle and proceed to the next cycle\n",
    "'''"
   ]
  },
  {
   "cell_type": "code",
   "execution_count": null,
   "id": "needed-feelings",
   "metadata": {},
   "outputs": [],
   "source": [
    "import pubchempy as pcp\n",
    "from rdkit import Chem\n",
    "pubchem_smi = []\n",
    "with open('./Week_3/Week_3_iupac_name_cas_no','r') as f:\n",
    "    for a_line in f:\n",
    "        name = a_line[:-1]\n",
    "        try:\n",
    "            compound = pcp.get_compounds(name,'name')[0]\n",
    "            pubchem_smi.append(compound.canonical_smiles)\n",
    "        except IndexError:\n",
    "            continue\n",
    "        \n",
    "week_2_smi = []\n",
    "with open('./Week_3/smi_list_from_Week_2','r') as f:\n",
    "    for smi in f:\n",
    "        mol = Chem.MolFromSmiles(smi[:-1])\n",
    "        week_2_smi.append( Chem.MolToSmiles(mol) )\n",
    "\n",
    "all_smi = list(set(pubchem_smi + week_2_smi))"
   ]
  },
  {
   "cell_type": "code",
   "execution_count": null,
   "id": "intense-ideal",
   "metadata": {},
   "outputs": [],
   "source": [
    "print(len(all_smi))"
   ]
  },
  {
   "cell_type": "code",
   "execution_count": null,
   "id": "scientific-stations",
   "metadata": {},
   "outputs": [],
   "source": [
    "from collections import Counter\n",
    "import json\n",
    "stoi_classified = {}\n",
    "for smi in all_smi:\n",
    "    mol = Chem.MolFromSmiles(smi)\n",
    "    mol = Chem.AddHs(mol)\n",
    "    atom_counter = Counter([atom.GetSymbol() for atom in mol.GetAtoms()])\n",
    "\n",
    "    if mol.GetNumHeavyAtoms() < 20 and len(set(atom_counter.keys()) - set(['C', 'H', 'N', 'O'])) == 0:\n",
    "        stoi = ''\n",
    "        for key in sorted(atom_counter.keys()):\n",
    "            if atom_counter[key] != 1:\n",
    "                stoi += key + str(atom_counter[key])\n",
    "            else:\n",
    "                stoi += key\n",
    "\n",
    "        try:\n",
    "            stoi_classified[stoi].append(smi[:-1])\n",
    "        except:\n",
    "            stoi_classified[stoi] = [smi[:-1]]\n",
    "\n",
    "#print(stoi_classified)           \n",
    "with open('./Week_3/Assignment.json', 'w') as f:\n",
    "    json.dump(stoi_classified, f, indent = 4)"
   ]
  },
  {
   "cell_type": "code",
   "execution_count": null,
   "id": "atomic-moment",
   "metadata": {},
   "outputs": [],
   "source": []
  }
 ],
 "metadata": {
  "kernelspec": {
   "display_name": "Python 3",
   "language": "python",
   "name": "python3"
  },
  "language_info": {
   "codemirror_mode": {
    "name": "ipython",
    "version": 3
   },
   "file_extension": ".py",
   "mimetype": "text/x-python",
   "name": "python",
   "nbconvert_exporter": "python",
   "pygments_lexer": "ipython3",
   "version": "3.7.9"
  }
 },
 "nbformat": 4,
 "nbformat_minor": 5
}
